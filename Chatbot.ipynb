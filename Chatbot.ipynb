{
  "nbformat": 4,
  "nbformat_minor": 0,
  "metadata": {
    "colab": {
      "provenance": [],
      "authorship_tag": "ABX9TyNbcNKd27av10l7u9ivtXNV",
      "include_colab_link": true
    },
    "kernelspec": {
      "name": "python3",
      "display_name": "Python 3"
    },
    "language_info": {
      "name": "python"
    },
    "widgets": {
      "application/vnd.jupyter.widget-state+json": {
        "6c650b0905b14233bc4005199cba76cd": {
          "model_module": "@jupyter-widgets/controls",
          "model_name": "TextModel",
          "model_module_version": "1.5.0",
          "state": {
            "_dom_classes": [],
            "_model_module": "@jupyter-widgets/controls",
            "_model_module_version": "1.5.0",
            "_model_name": "TextModel",
            "_view_count": null,
            "_view_module": "@jupyter-widgets/controls",
            "_view_module_version": "1.5.0",
            "_view_name": "TextView",
            "continuous_update": true,
            "description": "You:",
            "description_tooltip": null,
            "disabled": false,
            "layout": "IPY_MODEL_6ce3cca0aad04e559ebd9a869575ea34",
            "placeholder": "Type your message here...",
            "style": "IPY_MODEL_25abe7cb97464391acd2706b20aeeee1",
            "value": "what is your name"
          }
        },
        "6ce3cca0aad04e559ebd9a869575ea34": {
          "model_module": "@jupyter-widgets/base",
          "model_name": "LayoutModel",
          "model_module_version": "1.2.0",
          "state": {
            "_model_module": "@jupyter-widgets/base",
            "_model_module_version": "1.2.0",
            "_model_name": "LayoutModel",
            "_view_count": null,
            "_view_module": "@jupyter-widgets/base",
            "_view_module_version": "1.2.0",
            "_view_name": "LayoutView",
            "align_content": null,
            "align_items": null,
            "align_self": null,
            "border": null,
            "bottom": null,
            "display": null,
            "flex": null,
            "flex_flow": null,
            "grid_area": null,
            "grid_auto_columns": null,
            "grid_auto_flow": null,
            "grid_auto_rows": null,
            "grid_column": null,
            "grid_gap": null,
            "grid_row": null,
            "grid_template_areas": null,
            "grid_template_columns": null,
            "grid_template_rows": null,
            "height": null,
            "justify_content": null,
            "justify_items": null,
            "left": null,
            "margin": null,
            "max_height": null,
            "max_width": null,
            "min_height": null,
            "min_width": null,
            "object_fit": null,
            "object_position": null,
            "order": null,
            "overflow": null,
            "overflow_x": null,
            "overflow_y": null,
            "padding": null,
            "right": null,
            "top": null,
            "visibility": null,
            "width": null
          }
        },
        "25abe7cb97464391acd2706b20aeeee1": {
          "model_module": "@jupyter-widgets/controls",
          "model_name": "DescriptionStyleModel",
          "model_module_version": "1.5.0",
          "state": {
            "_model_module": "@jupyter-widgets/controls",
            "_model_module_version": "1.5.0",
            "_model_name": "DescriptionStyleModel",
            "_view_count": null,
            "_view_module": "@jupyter-widgets/base",
            "_view_module_version": "1.2.0",
            "_view_name": "StyleView",
            "description_width": ""
          }
        },
        "39fa66575fed4e6f82f537e79f330e95": {
          "model_module": "@jupyter-widgets/output",
          "model_name": "OutputModel",
          "model_module_version": "1.0.0",
          "state": {
            "_dom_classes": [],
            "_model_module": "@jupyter-widgets/output",
            "_model_module_version": "1.0.0",
            "_model_name": "OutputModel",
            "_view_count": null,
            "_view_module": "@jupyter-widgets/output",
            "_view_module_version": "1.0.0",
            "_view_name": "OutputView",
            "layout": "IPY_MODEL_48362742c7094f4cb8082dee41aecde2",
            "msg_id": "",
            "outputs": [
              {
                "output_type": "stream",
                "name": "stdout",
                "text": [
                  "You: what is your name\n",
                  "ChatBot: I'm ChatBot, your intelligent assistant.\n"
                ]
              }
            ]
          }
        },
        "48362742c7094f4cb8082dee41aecde2": {
          "model_module": "@jupyter-widgets/base",
          "model_name": "LayoutModel",
          "model_module_version": "1.2.0",
          "state": {
            "_model_module": "@jupyter-widgets/base",
            "_model_module_version": "1.2.0",
            "_model_name": "LayoutModel",
            "_view_count": null,
            "_view_module": "@jupyter-widgets/base",
            "_view_module_version": "1.2.0",
            "_view_name": "LayoutView",
            "align_content": null,
            "align_items": null,
            "align_self": null,
            "border": null,
            "bottom": null,
            "display": null,
            "flex": null,
            "flex_flow": null,
            "grid_area": null,
            "grid_auto_columns": null,
            "grid_auto_flow": null,
            "grid_auto_rows": null,
            "grid_column": null,
            "grid_gap": null,
            "grid_row": null,
            "grid_template_areas": null,
            "grid_template_columns": null,
            "grid_template_rows": null,
            "height": null,
            "justify_content": null,
            "justify_items": null,
            "left": null,
            "margin": null,
            "max_height": null,
            "max_width": null,
            "min_height": null,
            "min_width": null,
            "object_fit": null,
            "object_position": null,
            "order": null,
            "overflow": null,
            "overflow_x": null,
            "overflow_y": null,
            "padding": null,
            "right": null,
            "top": null,
            "visibility": null,
            "width": null
          }
        }
      }
    }
  },
  "cells": [
    {
      "cell_type": "markdown",
      "metadata": {
        "id": "view-in-github",
        "colab_type": "text"
      },
      "source": [
        "<a href=\"https://colab.research.google.com/github/Intelligent07/CodeSoft/blob/main/Chatbot.ipynb\" target=\"_parent\"><img src=\"https://colab.research.google.com/assets/colab-badge.svg\" alt=\"Open In Colab\"/></a>"
      ]
    },
    {
      "cell_type": "code",
      "execution_count": null,
      "metadata": {
        "colab": {
          "base_uri": "https://localhost:8080/"
        },
        "id": "L3dzZhm1OPuI",
        "outputId": "cab187e9-5153-4c93-8bf6-6eb09e158e74"
      },
      "outputs": [
        {
          "output_type": "stream",
          "name": "stdout",
          "text": [
            "Hello! I'm ChatBot. How can I assist you today?\n",
            "You: what is your name\n",
            "ChatBot: I'm ChatBot, your intelligent assistant.\n",
            "You: bye\n",
            "ChatBot: Goodbye! Have a great day!\n"
          ]
        }
      ],
      "source": [
        "import re\n",
        "\n",
        "# Knowledge base\n",
        "knowledge_base = {\n",
        "    \"what is your name\": \"I'm ChatBot, your intelligent assistant.\",\n",
        "    \"how are you\": \"I'm just a program, but I'm here to help you!\",\n",
        "    \"bye\": \"Goodbye! Have a great day!\",\n",
        "    \"help\": \"You can ask me questions like 'What is your name?', 'How are you?', or just say 'bye' to exit.\",\n",
        "    \"default\": \"Sorry, I didn't understand that. Can you rephrase?\"\n",
        "}\n",
        "\n",
        "# Intent patterns\n",
        "intents = {\n",
        "    \"greeting\": re.compile(r\"\\b(hi|hello|hey)\\b\", re.IGNORECASE),\n",
        "    \"farewell\": re.compile(r\"\\b(bye|exit|quit)\\b\", re.IGNORECASE),\n",
        "    \"help\": re.compile(r\"\\b(help|support)\\b\", re.IGNORECASE)\n",
        "}\n",
        "\n",
        "def chatbot():\n",
        "    print(\"Hello! I'm ChatBot. How can I assist you today?\")\n",
        "\n",
        "    while True:\n",
        "        user_input = input(\"You: \").lower()\n",
        "\n",
        "        # Check for specific intents\n",
        "        for intent, pattern in intents.items():\n",
        "            if pattern.search(user_input):\n",
        "                if intent == \"greeting\":\n",
        "                    print(\"ChatBot: Hi there! How can I assist you?\")\n",
        "                elif intent == \"farewell\":\n",
        "                    print(\"ChatBot: Goodbye! Have a great day!\")\n",
        "                    return\n",
        "                elif intent == \"help\":\n",
        "                    print(f\"ChatBot: {knowledge_base['help']}\")\n",
        "                break\n",
        "        else:\n",
        "            # Check for specific questions in the knowledge base\n",
        "            response = knowledge_base.get(user_input, knowledge_base[\"default\"])\n",
        "            print(f\"ChatBot: {response}\")\n",
        "\n",
        "# Start the chatbot\n",
        "chatbot()\n"
      ]
    },
    {
      "cell_type": "code",
      "source": [
        "import ipywidgets as widgets\n",
        "from IPython.display import display, clear_output\n",
        "import re\n",
        "\n",
        "# Simple dynamic knowledge base\n",
        "knowledge_base = {\n",
        "    \"what is your name\": \"I'm ChatBot, your intelligent assistant.\",\n",
        "    \"how are you\": \"I'm just a program, but I'm here to help you!\",\n",
        "    \"bye\": \"Goodbye! Have a great day!\",\n",
        "    \"help\": \"You can ask me questions like 'What is your name?', 'How are you?', or just say 'bye' to exit.\",\n",
        "    \"default\": \"Sorry, I didn't understand that. Can you rephrase?\"\n",
        "}\n",
        "\n",
        "# Intent patterns\n",
        "intents = {\n",
        "    \"greeting\": re.compile(r\"\\b(hi|hello|hey)\\b\", re.IGNORECASE),\n",
        "    \"farewell\": re.compile(r\"\\b(bye|exit|quit)\\b\", re.IGNORECASE),\n",
        "    \"help\": re.compile(r\"\\b(help|support)\\b\", re.IGNORECASE)\n",
        "}\n",
        "\n",
        "# Response function\n",
        "def get_response(user_input):\n",
        "    for intent, pattern in intents.items():\n",
        "        if pattern.search(user_input):\n",
        "            if intent == \"greeting\":\n",
        "                return \"Hi there! How can I assist you?\"\n",
        "            elif intent == \"farewell\":\n",
        "                return \"Goodbye! Have a great day!\"\n",
        "            elif intent == \"help\":\n",
        "                return knowledge_base['help']\n",
        "    return knowledge_base.get(user_input, knowledge_base[\"default\"])\n",
        "\n",
        "# Chatbot UI\n",
        "output = widgets.Output()\n",
        "text_box = widgets.Text(\n",
        "    description='You:',\n",
        "    placeholder='Type your message here...'\n",
        ")\n",
        "\n",
        "def on_submit(change):\n",
        "    with output:\n",
        "        clear_output(wait=True)\n",
        "        user_input = change['new'].strip()\n",
        "        if user_input:\n",
        "            print(f\"You: {user_input}\")\n",
        "            response = get_response(user_input.lower())\n",
        "            print(f\"ChatBot: {response}\")\n",
        "\n",
        "            if \"goodbye\" in response.lower():\n",
        "                print(\"ChatBot: Closing the chat...\")\n",
        "                text_box.disabled = True  # Disable the text box\n",
        "\n",
        "text_box.observe(on_submit, names='value')\n",
        "\n",
        "display(text_box, output)\n"
      ],
      "metadata": {
        "colab": {
          "base_uri": "https://localhost:8080/",
          "height": 85,
          "referenced_widgets": [
            "6c650b0905b14233bc4005199cba76cd",
            "6ce3cca0aad04e559ebd9a869575ea34",
            "25abe7cb97464391acd2706b20aeeee1",
            "39fa66575fed4e6f82f537e79f330e95",
            "48362742c7094f4cb8082dee41aecde2"
          ]
        },
        "id": "5fWpyOBiPVes",
        "outputId": "87f33834-f60e-4fa8-a6e9-e85615982bb4"
      },
      "execution_count": null,
      "outputs": [
        {
          "output_type": "display_data",
          "data": {
            "text/plain": [
              "Text(value='', description='You:', placeholder='Type your message here...')"
            ],
            "application/vnd.jupyter.widget-view+json": {
              "version_major": 2,
              "version_minor": 0,
              "model_id": "6c650b0905b14233bc4005199cba76cd"
            }
          },
          "metadata": {}
        },
        {
          "output_type": "display_data",
          "data": {
            "text/plain": [
              "Output()"
            ],
            "application/vnd.jupyter.widget-view+json": {
              "version_major": 2,
              "version_minor": 0,
              "model_id": "39fa66575fed4e6f82f537e79f330e95"
            }
          },
          "metadata": {}
        }
      ]
    }
  ]
}