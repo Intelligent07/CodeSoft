{
  "nbformat": 4,
  "nbformat_minor": 0,
  "metadata": {
    "colab": {
      "provenance": [],
      "authorship_tag": "ABX9TyNnkclSiKs/Hx0fhekpjct2",
      "include_colab_link": true
    },
    "kernelspec": {
      "name": "python3",
      "display_name": "Python 3"
    },
    "language_info": {
      "name": "python"
    }
  },
  "cells": [
    {
      "cell_type": "markdown",
      "metadata": {
        "id": "view-in-github",
        "colab_type": "text"
      },
      "source": [
        "<a href=\"https://colab.research.google.com/github/Intelligent07/CodeSoft/blob/main/Recommendation_system.ipynb\" target=\"_parent\"><img src=\"https://colab.research.google.com/assets/colab-badge.svg\" alt=\"Open In Colab\"/></a>"
      ]
    },
    {
      "cell_type": "code",
      "execution_count": null,
      "metadata": {
        "colab": {
          "base_uri": "https://localhost:8080/"
        },
        "id": "_3aYXItuFlJd",
        "outputId": "072d4d46-78ad-4a13-f04e-2c10127e84db"
      },
      "outputs": [
        {
          "output_type": "stream",
          "name": "stdout",
          "text": [
            "Requirement already satisfied: pandas in /usr/local/lib/python3.11/dist-packages (2.2.2)\n",
            "Requirement already satisfied: numpy>=1.23.2 in /usr/local/lib/python3.11/dist-packages (from pandas) (2.0.2)\n",
            "Requirement already satisfied: python-dateutil>=2.8.2 in /usr/local/lib/python3.11/dist-packages (from pandas) (2.8.2)\n",
            "Requirement already satisfied: pytz>=2020.1 in /usr/local/lib/python3.11/dist-packages (from pandas) (2025.2)\n",
            "Requirement already satisfied: tzdata>=2022.7 in /usr/local/lib/python3.11/dist-packages (from pandas) (2025.2)\n",
            "Requirement already satisfied: six>=1.5 in /usr/local/lib/python3.11/dist-packages (from python-dateutil>=2.8.2->pandas) (1.17.0)\n"
          ]
        }
      ],
      "source": [
        "pip install pandas\n"
      ]
    },
    {
      "cell_type": "code",
      "source": [
        "import pandas as pd\n",
        "\n",
        "# Sample dataset of movies\n",
        "movies = pd.DataFrame({\n",
        "    'MovieID': [1, 2, 3, 4, 5],\n",
        "    'Title': ['The Matrix', 'Inception', 'Interstellar', 'The Dark Knight', 'Pulp Fiction'],\n",
        "    'Genres': ['Sci-Fi,Action', 'Sci-Fi,Thriller', 'Sci-Fi,Adventure', 'Action,Drama', 'Crime,Drama']\n",
        "})\n",
        "\n",
        "# Sample user preferences\n",
        "user_preferences = ['Sci-Fi', 'Action']\n",
        "\n",
        "# Function to recommend movies based on user preferences\n",
        "def recommend_movies(movies, user_preferences):\n",
        "    # Filter movies that match the user's preferred genres\n",
        "    recommended = movies[movies['Genres'].apply(lambda x: any(genre in x for genre in user_preferences))]\n",
        "    return recommended\n",
        "\n",
        "# Get recommendations\n",
        "recommendations = recommend_movies(movies, user_preferences)\n",
        "print(\"Recommended Movies:\")\n",
        "print(recommendations[['Title', 'Genres']])\n"
      ],
      "metadata": {
        "colab": {
          "base_uri": "https://localhost:8080/"
        },
        "id": "n0q-ew_lFreg",
        "outputId": "c72149cb-1252-4816-96fb-79f8549eae3d"
      },
      "execution_count": null,
      "outputs": [
        {
          "output_type": "stream",
          "name": "stdout",
          "text": [
            "Recommended Movies:\n",
            "             Title            Genres\n",
            "0       The Matrix     Sci-Fi,Action\n",
            "1        Inception   Sci-Fi,Thriller\n",
            "2     Interstellar  Sci-Fi,Adventure\n",
            "3  The Dark Knight      Action,Drama\n"
          ]
        }
      ]
    },
    {
      "cell_type": "code",
      "source": [
        "pip install pandas scikit-learn\n"
      ],
      "metadata": {
        "colab": {
          "base_uri": "https://localhost:8080/"
        },
        "id": "F8ZL9lM3GKwC",
        "outputId": "c70162b1-8c97-4a44-e948-9e5c3e21520e"
      },
      "execution_count": null,
      "outputs": [
        {
          "output_type": "stream",
          "name": "stdout",
          "text": [
            "Requirement already satisfied: pandas in /usr/local/lib/python3.11/dist-packages (2.2.2)\n",
            "Requirement already satisfied: scikit-learn in /usr/local/lib/python3.11/dist-packages (1.6.1)\n",
            "Requirement already satisfied: numpy>=1.23.2 in /usr/local/lib/python3.11/dist-packages (from pandas) (2.0.2)\n",
            "Requirement already satisfied: python-dateutil>=2.8.2 in /usr/local/lib/python3.11/dist-packages (from pandas) (2.8.2)\n",
            "Requirement already satisfied: pytz>=2020.1 in /usr/local/lib/python3.11/dist-packages (from pandas) (2025.2)\n",
            "Requirement already satisfied: tzdata>=2022.7 in /usr/local/lib/python3.11/dist-packages (from pandas) (2025.2)\n",
            "Requirement already satisfied: scipy>=1.6.0 in /usr/local/lib/python3.11/dist-packages (from scikit-learn) (1.14.1)\n",
            "Requirement already satisfied: joblib>=1.2.0 in /usr/local/lib/python3.11/dist-packages (from scikit-learn) (1.4.2)\n",
            "Requirement already satisfied: threadpoolctl>=3.1.0 in /usr/local/lib/python3.11/dist-packages (from scikit-learn) (3.6.0)\n",
            "Requirement already satisfied: six>=1.5 in /usr/local/lib/python3.11/dist-packages (from python-dateutil>=2.8.2->pandas) (1.17.0)\n"
          ]
        }
      ]
    },
    {
      "cell_type": "markdown",
      "source": [
        "Step 2: Python Code for Collaborative Filtering"
      ],
      "metadata": {
        "id": "HRFPgrTUGPDz"
      }
    },
    {
      "cell_type": "code",
      "source": [
        "import pandas as pd\n",
        "from sklearn.metrics.pairwise import cosine_similarity\n",
        "\n",
        "# Sample user-item rating matrix\n",
        "data = {\n",
        "    'The Matrix': [5, 4, 0, 0, 0],\n",
        "    'Inception': [4, 0, 0, 0, 0],\n",
        "    'Interstellar': [0, 0, 5, 3, 0],\n",
        "    'The Dark Knight': [0, 0, 4, 5, 0],\n",
        "    'Pulp Fiction': [0, 0, 0, 0, 5]\n",
        "}\n",
        "\n",
        "# User ratings (rows = users, columns = movies)\n",
        "ratings = pd.DataFrame(data, index=['User1', 'User2', 'User3', 'User4', 'User5'])\n",
        "\n",
        "# Function to recommend movies based on collaborative filtering\n",
        "def recommend_movies_cf(ratings, target_user):\n",
        "    # Calculate user similarity matrix\n",
        "    user_similarity = cosine_similarity(ratings.fillna(0))\n",
        "    user_similarity_df = pd.DataFrame(user_similarity, index=ratings.index, columns=ratings.index)\n",
        "\n",
        "    # Get similar users to the target user\n",
        "    similar_users = user_similarity_df[target_user].sort_values(ascending=False)\n",
        "\n",
        "    # Recommend movies liked by similar users\n",
        "    target_ratings = ratings.loc[target_user]\n",
        "    recommendations = {}\n",
        "    for user in similar_users.index:\n",
        "        if user != target_user:\n",
        "            for movie in ratings.columns:\n",
        "                if ratings.loc[user, movie] > 0 and pd.isna(target_ratings[movie]):\n",
        "                    recommendations[movie] = recommendations.get(movie, 0) + ratings.loc[user, movie] * similar_users[user]\n",
        "\n",
        "    # Sort recommendations\n",
        "    recommended_movies = sorted(recommendations.items(), key=lambda x: x[1], reverse=True)\n",
        "    return [movie for movie, _ in recommended_movies]\n",
        "\n",
        "# Recommend movies for User1\n",
        "recommended_movies = recommend_movies_cf(ratings, 'User1')\n",
        "print(\"Recommended Movies for User1:\")\n",
        "print(recommended_movies)\n"
      ],
      "metadata": {
        "colab": {
          "base_uri": "https://localhost:8080/"
        },
        "id": "TAAu-bHYGQV3",
        "outputId": "3c3d549c-6280-44ee-96ac-1208336a7c3f"
      },
      "execution_count": null,
      "outputs": [
        {
          "output_type": "stream",
          "name": "stdout",
          "text": [
            "Recommended Movies for User1:\n",
            "[]\n"
          ]
        }
      ]
    },
    {
      "cell_type": "code",
      "source": [
        "pip install pandas scikit-learn\n"
      ],
      "metadata": {
        "colab": {
          "base_uri": "https://localhost:8080/"
        },
        "id": "cgsykTFdH6N-",
        "outputId": "f32897d0-ed3e-49fd-fc3d-21f711f9db53"
      },
      "execution_count": null,
      "outputs": [
        {
          "output_type": "stream",
          "name": "stdout",
          "text": [
            "Requirement already satisfied: pandas in /usr/local/lib/python3.11/dist-packages (2.2.2)\n",
            "Requirement already satisfied: scikit-learn in /usr/local/lib/python3.11/dist-packages (1.6.1)\n",
            "Requirement already satisfied: numpy>=1.23.2 in /usr/local/lib/python3.11/dist-packages (from pandas) (2.0.2)\n",
            "Requirement already satisfied: python-dateutil>=2.8.2 in /usr/local/lib/python3.11/dist-packages (from pandas) (2.8.2)\n",
            "Requirement already satisfied: pytz>=2020.1 in /usr/local/lib/python3.11/dist-packages (from pandas) (2025.2)\n",
            "Requirement already satisfied: tzdata>=2022.7 in /usr/local/lib/python3.11/dist-packages (from pandas) (2025.2)\n",
            "Requirement already satisfied: scipy>=1.6.0 in /usr/local/lib/python3.11/dist-packages (from scikit-learn) (1.14.1)\n",
            "Requirement already satisfied: joblib>=1.2.0 in /usr/local/lib/python3.11/dist-packages (from scikit-learn) (1.4.2)\n",
            "Requirement already satisfied: threadpoolctl>=3.1.0 in /usr/local/lib/python3.11/dist-packages (from scikit-learn) (3.6.0)\n",
            "Requirement already satisfied: six>=1.5 in /usr/local/lib/python3.11/dist-packages (from python-dateutil>=2.8.2->pandas) (1.17.0)\n"
          ]
        }
      ]
    },
    {
      "cell_type": "code",
      "source": [
        "import pandas as pd\n",
        "from sklearn.metrics.pairwise import cosine_similarity\n",
        "import numpy as np\n",
        "\n",
        "# Sample movie dataset (Content-Based)\n",
        "movies = pd.DataFrame({\n",
        "    'MovieID': [1, 2, 3, 4, 5],\n",
        "    'Title': ['The Matrix', 'Inception', 'Interstellar', 'The Dark Knight', 'Pulp Fiction'],\n",
        "    'Genres': ['Sci-Fi,Action', 'Sci-Fi,Thriller', 'Sci-Fi,Adventure', 'Action,Drama', 'Crime,Drama']\n",
        "})\n",
        "\n",
        "# Sample user-item rating matrix (Collaborative Filtering)\n",
        "ratings = pd.DataFrame({\n",
        "    'The Matrix': [5, 4, 0, 0, 0],\n",
        "    'Inception': [4, 0, 0, 0, 0],\n",
        "    'Interstellar': [0, 0, 5, 3, 0],\n",
        "    'The Dark Knight': [0, 0, 4, 5, 0],\n",
        "    'Pulp Fiction': [0, 0, 0, 0, 5]\n",
        "}, index=['User1', 'User2', 'User3', 'User4', 'User5'])\n",
        "\n",
        "# User Preferences (Content-Based)\n",
        "user_preferences = ['Sci-Fi', 'Action']\n",
        "\n",
        "# Function for Content-Based Filtering\n",
        "def content_based_recommendation(movies, user_preferences):\n",
        "    recommended = movies[movies['Genres'].apply(lambda x: any(genre in x for genre in user_preferences))]\n",
        "    return recommended[['Title']]\n",
        "\n",
        "# Function for Collaborative Filtering\n",
        "def collaborative_filtering(ratings, target_user):\n",
        "    user_similarity = cosine_similarity(ratings.fillna(0))\n",
        "    user_similarity_df = pd.DataFrame(user_similarity, index=ratings.index, columns=ratings.index)\n",
        "    similar_users = user_similarity_df[target_user].sort_values(ascending=False)\n",
        "\n",
        "    target_ratings = ratings.loc[target_user]\n",
        "    recommendations = {}\n",
        "    for user in similar_users.index:\n",
        "        if user != target_user:\n",
        "            for movie in ratings.columns:\n",
        "                if ratings.loc[user, movie] > 0 and pd.isna(target_ratings[movie]):\n",
        "                    recommendations[movie] = recommendations.get(movie, 0) + ratings.loc[user, movie] * similar_users[user]\n",
        "\n",
        "    recommended_movies = sorted(recommendations.items(), key=lambda x: x[1], reverse=True)\n",
        "    return [movie for movie, _ in recommended_movies]\n",
        "\n",
        "# Hybrid Recommendation (Combining CBF & CF)\n",
        "def hybrid_recommendation(movies, ratings, user_preferences, target_user, alpha=0.5):\n",
        "    # Content-Based Recommendations\n",
        "    cb_recs = content_based_recommendation(movies, user_preferences)['Title'].tolist()\n",
        "\n",
        "    # Collaborative Filtering Recommendations\n",
        "    cf_recs = collaborative_filtering(ratings, target_user)\n",
        "\n",
        "    # Combine Recommendations with Weights\n",
        "    combined_recs = {}\n",
        "    for movie in cb_recs + cf_recs:\n",
        "        combined_recs[movie] = alpha * (1 if movie in cb_recs else 0) + (1 - alpha) * (1 if movie in cf_recs else 0)\n",
        "\n",
        "    # Sort by combined score\n",
        "    final_recommendations = sorted(combined_recs.items(), key=lambda x: x[1], reverse=True)\n",
        "    return [movie for movie, _ in final_recommendations]\n",
        "\n",
        "# Recommendations for User1\n",
        "final_recommendations = hybrid_recommendation(movies, ratings, user_preferences, 'User1')\n",
        "print(\"Hybrid Recommended Movies for User1:\")\n",
        "print(final_recommendations)\n"
      ],
      "metadata": {
        "colab": {
          "base_uri": "https://localhost:8080/"
        },
        "id": "59weFRlAH-Ro",
        "outputId": "4a0d97f7-d5d7-45b4-c562-f953df824de2"
      },
      "execution_count": null,
      "outputs": [
        {
          "output_type": "stream",
          "name": "stdout",
          "text": [
            "Hybrid Recommended Movies for User1:\n",
            "['The Matrix', 'Inception', 'Interstellar', 'The Dark Knight']\n"
          ]
        }
      ]
    },
    {
      "cell_type": "code",
      "source": [
        "import matplotlib.pyplot as plt\n",
        "\n",
        "# Function to visualize the recommendations\n",
        "def visualize_recommendations(movies, ratings, user_preferences, target_user, alpha=0.5):\n",
        "    # Content-Based Recommendations\n",
        "    cb_recs = content_based_recommendation(movies, user_preferences)['Title'].tolist()\n",
        "\n",
        "    # Collaborative Filtering Recommendations\n",
        "    cf_recs = collaborative_filtering(ratings, target_user)\n",
        "\n",
        "    # Combine Recommendations with Weights\n",
        "    combined_recs = {}\n",
        "    for movie in cb_recs + cf_recs:\n",
        "        cb_score = alpha * (1 if movie in cb_recs else 0)\n",
        "        cf_score = (1 - alpha) * (1 if movie in cf_recs else 0)\n",
        "        combined_recs[movie] = cb_score + cf_score\n",
        "\n",
        "    # Prepare data for plotting\n",
        "    movies_list = list(combined_recs.keys())\n",
        "    cb_scores = [alpha if movie in cb_recs else 0 for movie in movies_list]\n",
        "    cf_scores = [(1 - alpha) if movie in cf_recs else 0 for movie in movies_list]\n",
        "    final_scores = [cb + cf for cb, cf in zip(cb_scores, cf_scores)]\n",
        "\n",
        "    # Plotting\n",
        "    x = range(len(movies_list))\n",
        "    plt.figure(figsize=(10, 6))\n",
        "    plt.bar(x, cb_scores, label='Content-Based', alpha=0.7)\n",
        "    plt.bar(x, cf_scores, bottom=cb_scores, label='Collaborative Filtering', alpha=0.7)\n",
        "    plt.bar(x, final_scores, alpha=0.9, label='Final Score', color='cyan')\n",
        "\n",
        "    plt.xticks(x, movies_list, rotation=45)\n",
        "    plt.xlabel('Movies')\n",
        "    plt.ylabel('Scores')\n",
        "    plt.title('Hybrid Recommendation System Visualization')\n",
        "    plt.legend()\n",
        "\n",
        "    plt.show()\n",
        "\n",
        "# Visualize recommendations for User1\n",
        "visualize_recommendations(movies, ratings, user_preferences, 'User1')\n"
      ],
      "metadata": {
        "id": "UaeDoYnoIS_6",
        "outputId": "0c0d1f32-c16d-4a7b-aa33-e50f9088b341",
        "colab": {
          "base_uri": "https://localhost:8080/",
          "height": 640
        }
      },
      "execution_count": null,
      "outputs": [
        {
          "output_type": "display_data",
          "data": {
            "text/plain": [
              "<Figure size 1000x600 with 1 Axes>"
            ],
            "image/png": "[encoded data removed]"
          },
          "metadata": {}
        }
      ]
    }
  ]
}